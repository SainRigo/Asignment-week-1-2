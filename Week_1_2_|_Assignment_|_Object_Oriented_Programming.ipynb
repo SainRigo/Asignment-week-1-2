{
  "nbformat": 4,
  "nbformat_minor": 0,
  "metadata": {
    "colab": {
      "provenance": [],
      "include_colab_link": true
    },
    "kernelspec": {
      "name": "python3",
      "display_name": "Python 3"
    },
    "language_info": {
      "name": "python"
    }
  },
  "cells": [
    {
      "cell_type": "markdown",
      "metadata": {
        "id": "view-in-github",
        "colab_type": "text"
      },
      "source": [
        "<a href=\"https://colab.research.google.com/github/SainRigo/Asignment-week-1-2/blob/main/Week_1_2_%7C_Assignment_%7C_Object_Oriented_Programming.ipynb\" target=\"_parent\"><img src=\"https://colab.research.google.com/assets/colab-badge.svg\" alt=\"Open In Colab\"/></a>"
      ]
    },
    {
      "cell_type": "markdown",
      "source": [
        "## Hello everybody 😃 😃 welcome back\n",
        "\n",
        "This assignment is for workshop_02 in Object_Oriented Programming (OOP) in python."
      ],
      "metadata": {
        "id": "eispJBJUKmjG"
      }
    },
    {
      "cell_type": "markdown",
      "source": [
        "### Let's dive deeper 😁\n",
        "\n",
        "Object oriented programming is based on the idea of grouping data and functions together in what's called a class.\n"
      ],
      "metadata": {
        "id": "dDq4usPd48Hw"
      }
    },
    {
      "cell_type": "markdown",
      "source": [
        "## Let's see some main concepts 😃😃\n",
        "\n",
        "We can define a class by typing Class then the name of the class. we can also define variables inside the class and they could be only used within the class.\n",
        "\n",
        "The init function is where you add your variables. but this time we don't just declare the variables as before, but we add them as a self.variable_name to be accessible within all functions in the class.\n",
        "\n",
        "\n",
        "```\n",
        "class Person():\n",
        "  def __init__(name, age)\n",
        "    self.name = name\n",
        "    self.age = age\n",
        "\n",
        "  def check_age()\n",
        "    if self.age > 30:\n",
        "      print(True)\n",
        "\n",
        "\n",
        "\n",
        "  p = Person(\"Alice\" , 25)\n",
        "\n",
        "```\n",
        "\n",
        "So, here we created a class called person that we could define a name and age for.\n",
        "\n",
        "To use this class we create an instance from it which is called \"Object\" we just do as in the code. Name the object (in this case p) and give it the values needed by the init function.\n",
        "\n",
        "\n",
        "\n",
        "```\n",
        "print(p.check_age())\n",
        "\n",
        "False\n",
        "```\n",
        "\n",
        "We can also call functions from the class. Just like this ✅ ✅\n"
      ],
      "metadata": {
        "id": "Oh3kuN9XJz9m"
      }
    },
    {
      "cell_type": "markdown",
      "source": [
        "\n",
        "**Q1.**\n",
        " Consider the following example of a class of participants in a workshop. Add a variable 'pronoun' to the Participant class and make a method that can access to the pronoun of each partcipant and print it."
      ],
      "metadata": {
        "id": "9EM_GIecNDCR"
      }
    },
    {
      "cell_type": "code",
      "source": [
        "class Participant():\n",
        "    def __init__(self, name, job, country, age, pronoun):\n",
        "        self.name = name\n",
        "        self.job = job\n",
        "        self.country = country\n",
        "        self.age = age\n",
        "        self.pronoun = pronoun\n",
        "\n",
        "    def introduce(self):\n",
        "        intro = f'My name is {self.name}. I am from {self.country}.'\n",
        "        return intro\n",
        "\n",
        "    def career(self):\n",
        "        print(f'My job is {self.job}.')\n",
        "\n",
        "    def print_pronoun(self):\n",
        "        print(f'My pronoun is {self.pronoun}.')"
      ],
      "metadata": {
        "id": "ysLDm91jNg-c"
      },
      "execution_count": 1,
      "outputs": []
    },
    {
      "cell_type": "markdown",
      "source": [
        "**Q2.**\n",
        "Complete the Message class given below using the 'length' method to return the length of a message. Add an 'append' method that add the all tweets into the tweets list.\n",
        "\n",
        "Then try to make some objects based on the completed version of the class and apply the methods for them."
      ],
      "metadata": {
        "id": "pIdma5T4WSnW"
      }
    },
    {
      "cell_type": "code",
      "source": [
        "import time\n",
        "\n",
        "class Message():\n",
        "    def __init__(self, owner, tweet):\n",
        "        self.owner = owner\n",
        "        self.tweet = tweet\n",
        "        self.time = time.time()\n",
        "        self.tweets = [tweet]\n",
        "\n",
        "    def tweeter(self):\n",
        "        print(f'{self.owner} is the author of the \\n{self.tweet}.')\n",
        "\n",
        "    def __len__(self):\n",
        "        return len(self.tweet)\n",
        "\n",
        "    def append(self, new_tweet):\n",
        "        self.tweets.append(new_tweet)\n",
        "\n",
        "    def get_all_tweets(self):\n",
        "        return self.tweets"
      ],
      "metadata": {
        "id": "SvgdwdQCZFLa"
      },
      "execution_count": 2,
      "outputs": []
    },
    {
      "cell_type": "markdown",
      "source": [
        "**Q3.**\n",
        "Complete the Student class and implement the operator methods such as:\n",
        "1. \\__le__()\n",
        "2. \\__ge__()\n",
        "3. \\__eq__()\n",
        "4. \\__add__()\n",
        "5. \\__mul__()\n",
        "\n",
        "Then apply them over the objects of the class."
      ],
      "metadata": {
        "id": "yR8ccniB4rAk"
      }
    },
    {
      "cell_type": "code",
      "source": [
        "class Student():\n",
        "    def __init__(self, name, mark):\n",
        "        self.name = name\n",
        "        self.mark = mark\n",
        "\n",
        "    def __le__(self, other):\n",
        "        return self.mark <= other.mark\n",
        "\n",
        "    def __ge__(self, other):\n",
        "        return self.mark >= other.mark\n",
        "\n",
        "    def __eq__(self, other):\n",
        "        return self.mark == other.mark\n",
        "\n",
        "    def __add__(self, other):\n",
        "        return self.mark + other.mark\n",
        "\n",
        "    def __mul__(self, other):\n",
        "        return self.mark * other.mark"
      ],
      "metadata": {
        "id": "bAJ4GmbT72p0"
      },
      "execution_count": 3,
      "outputs": []
    },
    {
      "cell_type": "code",
      "source": [],
      "metadata": {
        "id": "4XsuS-o4AtwC"
      },
      "execution_count": null,
      "outputs": []
    }
  ]
}